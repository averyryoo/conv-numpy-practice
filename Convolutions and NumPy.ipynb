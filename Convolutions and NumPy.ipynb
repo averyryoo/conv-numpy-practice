{
 "cells": [
  {
   "cell_type": "markdown",
   "metadata": {},
   "source": [
    "# NumPy and Convolution Practice\n",
    "\n",
    "I've recently been engrossed in computer vision and working with convolutional neural networks. To help myself understand these concepts and some Python frameworks a bit better, I tried doing some manual convolutions using NumPy.\n",
    "\n"
   ]
  },
  {
   "attachments": {
    "image.png": {
     "image/png": "[encoded data removed]"
    }
   },
   "cell_type": "markdown",
   "metadata": {},
   "source": [
    "Let's start off with the assumptions I make in this code: \n",
    "\n",
    "- The random unsigned chars that fill the original matrix are between 0-255, to represent the grayscale range\n",
    "- Border conditions will be dealt with as if there is a border of 0's surrounding the input matrix (i.e. any element of the kernel filter that exists outside of the matrix parameters will be multiplied by 0.  ![image.png](attachment:image.png) (w, x, y, z being the input matrix where the kernel will be applied)\n",
    "\n"
   ]
  },
  {
   "cell_type": "markdown",
   "metadata": {},
   "source": [
    "### <font color=orange>1. Setup and Original Matrix</font>\n",
    "\n",
    "First, we need to import the relative libraries. For this code, we use random, numpy, and time. NumPy in particular is important for faster array initializations and computations. After taking the dimensions of the input matrix as integer inputs, I initialize a matrix filled with random integers between 0-255, representing the possible grayscale values of a pixel. Afterwards, I use NumPy to reinitialize the elements as unsigned chars, to comply with the memory optimization suggestion in the instructions. "
   ]
  },
  {
   "cell_type": "code",
   "execution_count": 1,
   "metadata": {},
   "outputs": [
    {
     "name": "stdout",
     "output_type": "stream",
     "text": [
      "Input number of rows: 10\n",
      "Input number of cols: 2\n",
      "\n",
      " Input Matrix: \n",
      "\n",
      "[[110  54]\n",
      " [219 140]\n",
      " [175 117]\n",
      " [115 254]\n",
      " [218  95]\n",
      " [152 204]\n",
      " [ 87 138]\n",
      " [ 31 208]\n",
      " [ 21 103]\n",
      " [206 173]]\n"
     ]
    }
   ],
   "source": [
    "# Import relative libraries\n",
    "from random import *\n",
    "import numpy as np\n",
    "import time\n",
    "\n",
    "# Read row and column sizes as integer arguments from the command line\n",
    "rows = int(input(\"Input number of rows: \"))\n",
    "cols = int(input(\"Input number of cols: \"))\n",
    "\n",
    "# Do a list comprehension to initialize a rows x cols matrix with random integers \n",
    "inputMatrix = [[randint(0, 256) for j in range(cols)] for i in range(rows)]\n",
    "# Reinitialize it as a NumPy array so that its elements are unsigned chars \n",
    "inputMatrix = np.array(inputMatrix, dtype=np.ubyte)\n",
    "\n",
    "# Display input matrix\n",
    "print(\"\\n Input Matrix: \\n\")\n",
    "print(inputMatrix)"
   ]
  },
  {
   "cell_type": "markdown",
   "metadata": {},
   "source": [
    "### <font color=orange>2. Convolution Setup</font>\n",
    "Now, we initialize the Dy and Dx matrices using the numpy.zeros() function. Each of these matrices are the same size as the input matrix, and will store elements as short integers, as the convolutions may result in the elements being any integer value between -255 and 255. Next we set up two functions that will convolve the matrix elements, one for horizontal convolutions and one for vertical convolutions. Since we can safely assume that our kernel will remain K=(-1, 0, 1), it is unnecessary to take a kernel value as an argument for this exercise. Instead, the only arguments this function takes are the row and column value of the element being convolved.\n",
    "    "
   ]
  },
  {
   "cell_type": "code",
   "execution_count": 2,
   "metadata": {},
   "outputs": [
    {
     "name": "stdout",
     "output_type": "stream",
     "text": [
      "Setup Complete\n"
     ]
    }
   ],
   "source": [
    "# Initialize Dx and Dy as short integer matrices the same shape as the input matrix. \n",
    "dxMatrix = np.zeros((rows, cols), dtype = np.short)\n",
    "dyMatrix = np.zeros((rows, cols), dtype = np.short)\n",
    "\n",
    "# Horizontal convolution function\n",
    "def convolveX(rowNum, colNum):\n",
    "    #Case 1: element exists on the left border (i.e. doesn't have an element to its left)\n",
    "    if colNum == 0:\n",
    "        return inputMatrix[rowNum][1]\n",
    "    #Case 2: element exists on the right border (i.e. doesn't have an element to its right)\n",
    "    elif colNum == cols-1:\n",
    "        return -1 * inputMatrix[rowNum][colNum-1]\n",
    "    #Case 3: element has neighbouring elements to the left and right\n",
    "    else: \n",
    "        return int(inputMatrix[rowNum][colNum+1]) - int(inputMatrix[rowNum][colNum-1])\n",
    "\n",
    "# Vertical convolution function\n",
    "def convolveY(rowNum, colNum):\n",
    "    #Case 1: element exists on the top border (i.e. doesn't have an element above it)\n",
    "    if rowNum == 0:\n",
    "        return inputMatrix[1][colNum]\n",
    "    #Case 2: element exists on the bottom border (i.e. doesn't have an element below it)\n",
    "    elif rowNum == rows-1:\n",
    "        return -1 * inputMatrix[rowNum-1][colNum]\n",
    "    #Case 3: element has neighbouring elements to its top and bottom\n",
    "    else:\n",
    "        return int(inputMatrix[rowNum+1][colNum]) - int(inputMatrix[rowNum-1][colNum])\n",
    "    \n",
    "print(\"Setup Complete\")"
   ]
  },
  {
   "attachments": {
    "image.png": {
     "image/png": "[encoded data removed]"
    }
   },
   "cell_type": "markdown",
   "metadata": {},
   "source": [
    "### <font color=orange>3. Convolution Computation</font>\n",
    "Now for the part we've all been waiting for. Interestingly, by multiplying the horizontal and vertical kernel together, we get a 3x3 matrix that can be used as a kernel for edge detection. ![image.png](attachment:image.png)\n",
    "As for the actual convolution itself, we use a nested for-loop to access each element of the input matrix. At each point, we apply the **convolvex()** and **convolveY()** functions and store the computed values in their respective matrices. We measure the computation time before and after the convolutions take place and find their difference in order to calculate computation time. "
   ]
  },
  {
   "cell_type": "code",
   "execution_count": 3,
   "metadata": {},
   "outputs": [
    {
     "name": "stdout",
     "output_type": "stream",
     "text": [
      "Convolution Matrices:\n",
      "\n",
      "Dx Matrix:\n",
      "[[  54 -110]\n",
      " [ 140 -219]\n",
      " [ 117 -175]\n",
      " [ 254 -115]\n",
      " [  95 -218]\n",
      " [ 204 -152]\n",
      " [ 138  -87]\n",
      " [ 208  -31]\n",
      " [ 103  -21]\n",
      " [ 173 -206]]\n",
      "\n",
      " Dy Matrix:\n",
      "[[ 219  140]\n",
      " [  65   63]\n",
      " [-104  114]\n",
      " [  43  -22]\n",
      " [  37  -50]\n",
      " [-131   43]\n",
      " [-121    4]\n",
      " [ -66  -35]\n",
      " [ 175  -35]\n",
      " [ -21 -103]]\n",
      "\n",
      " Total computation time: 0.0010402202606201172\n"
     ]
    }
   ],
   "source": [
    "# Take time point before the convolutions\n",
    "start = time.time()\n",
    "\n",
    "# Use a nested for-loop to perform the convolutions on each element and store the values in their respective matrices\n",
    "for i in range(rows):\n",
    "    for j in range(cols):\n",
    "        # Apply the convolution functions to each element\n",
    "        dxMatrix[i][j] = convolveX(i, j)\n",
    "        dyMatrix[i][j] = convolveY(i, j)\n",
    "# Take time point after the convolutions\n",
    "stop = time.time()\n",
    "\n",
    "# Print total computation time, Dx, and Dy\n",
    "print(\"Convolution Matrices:\\n\")\n",
    "print(\"Dx Matrix:\")\n",
    "print(dxMatrix)\n",
    "print(\"\\n Dy Matrix:\")\n",
    "print(dyMatrix)\n",
    "print(\"\\n Total computation time:\", stop-start)"
   ]
  },
  {
   "cell_type": "markdown",
   "metadata": {},
   "source": [
    "### <font color=orange>4. Min and Max Computation</font>\n",
    "To compute the max and min, we simply use the NumPy functions amax() and amin(). \n",
    "\n"
   ]
  },
  {
   "cell_type": "code",
   "execution_count": 4,
   "metadata": {},
   "outputs": [
    {
     "name": "stdout",
     "output_type": "stream",
     "text": [
      "Dx Matrix Max: 254\n",
      "Dx Matrix Min: -219\n",
      "Dy Matrix Max: 219\n",
      "Dy Matrix Min: -131\n"
     ]
    }
   ],
   "source": [
    "print(\"Dx Matrix Max:\", np.amax(dxMatrix))\n",
    "print(\"Dx Matrix Min:\", np.amin(dxMatrix))\n",
    "print(\"Dy Matrix Max:\", np.amax(dyMatrix))\n",
    "print(\"Dy Matrix Min:\", np.amin(dyMatrix))"
   ]
  },
  {
   "cell_type": "markdown",
   "metadata": {},
   "source": [
    "### <font color=orange>5. Conclusion</font>\n",
    "Thanks for following until the end! As I familiarize myself with both CV/ML, I can't wait to make more exciting projects."
   ]
  },
  {
   "cell_type": "code",
   "execution_count": null,
   "metadata": {},
   "outputs": [],
   "source": []
  }
 ],
 "metadata": {
  "kernelspec": {
   "display_name": "Python 3",
   "language": "python",
   "name": "python3"
  },
  "language_info": {
   "codemirror_mode": {
    "name": "ipython",
    "version": 3
   },
   "file_extension": ".py",
   "mimetype": "text/x-python",
   "name": "python",
   "nbconvert_exporter": "python",
   "pygments_lexer": "ipython3",
   "version": "3.7.1"
  }
 },
 "nbformat": 4,
 "nbformat_minor": 2
}
